{
 "cells": [
  {
   "cell_type": "code",
   "execution_count": null,
   "metadata": {
    "collapsed": true
   },
   "outputs": [],
   "source": [
    "\"\"\"\n",
    "This simulator allows the user to put in inputs for 3 DCF scenarios, then performs 5000 simulations for Scenario A, 2500 for B and 2500 for C. The results are displayed under 'Outputs', which shows the probability and cumulative distribution of upsides based on these simulations, and a summary stable of statistics. \n",
    "\n",
    "\n",
    "\"\"\""
   ]
  },
  {
   "cell_type": "code",
   "execution_count": 1,
   "metadata": {
    "collapsed": false
   },
   "outputs": [
    {
     "name": "stderr",
     "output_type": "stream",
     "text": [
      "/Users/christopherwaller/anaconda/lib/python2.7/site-packages/pandas/io/data.py:33: FutureWarning: \n",
      "The pandas.io.data module is moved to a separate package (pandas-datareader) and will be removed from pandas in a future version.\n",
      "After installing the pandas-datareader package (https://github.com/pydata/pandas-datareader), you can change the import ``from pandas.io import data, wb`` to ``from pandas_datareader import data, wb``.\n",
      "  FutureWarning)\n"
     ]
    }
   ],
   "source": [
    "import numpy as np\n",
    "import pandas as pd\n",
    "from pandas import Series, DataFrame\n",
    "import pandas.io.data as web\n",
    "from pandas.io.data import DataReader\n",
    "import matplotlib.pyplot as plt\n",
    "import matplotlib.mlab as mlab\n",
    "from scipy.stats import norm\n",
    "import random\n",
    "import datetime\n",
    "\n",
    "%matplotlib inline "
   ]
  },
  {
   "cell_type": "markdown",
   "metadata": {},
   "source": [
    "# Inputs"
   ]
  },
  {
   "cell_type": "code",
   "execution_count": 2,
   "metadata": {
    "collapsed": false
   },
   "outputs": [],
   "source": [
    "symbol = 'GOOGL'\n",
    "\n",
    "price = web.DataReader(symbol, data_source='yahoo', end=datetime.datetime.now())['Adj Close'][-1]\n",
    "\n",
    "shares_out = 686.5\n",
    "debt = 5220\n",
    "cash = 73066\n",
    "use_of_cash = 0.05\n",
    "\n",
    "#Scenarios used:\n",
    "A = 'Yes'\n",
    "B = 'Yes'\n",
    "C = 'Yes'"
   ]
  },
  {
   "cell_type": "markdown",
   "metadata": {},
   "source": [
    "# \n",
    "Scenario A"
   ]
  },
  {
   "cell_type": "code",
   "execution_count": 3,
   "metadata": {
    "collapsed": true
   },
   "outputs": [],
   "source": [
    "n_a = 5000  #make sure is changed for scenarios B, C.\n",
    "r_a = 0.085\n",
    "fcf1_a = 17266\n",
    "fcf5_a = 43880\n",
    "\n",
    "g0_a = 0 #unused as just pushing DCF back 1 period\n",
    "g1_a = 0.233\n",
    "g2_a = 0.208\n",
    "g3_a = 0.091\n",
    "g4_a = 0.05 #unused if fcf5 entered directly\n",
    "g5_a = 0.155\n",
    "g6_a = 0.119\n",
    "g7_a = 0.083\n",
    "g8_a = 0.047\n",
    "g9_a = 0.02\n",
    "g10_a = 0.02\n",
    "g11_a = 0.02\n",
    "g12_a = 0.02\n",
    "g13_a = 0.02\n",
    "g14_a = 0.02\n",
    "g15_a = 0.02\n",
    "gt_a = 0.02\n"
   ]
  },
  {
   "cell_type": "markdown",
   "metadata": {},
   "source": [
    "# \n",
    "Scenario B"
   ]
  },
  {
   "cell_type": "code",
   "execution_count": 4,
   "metadata": {
    "collapsed": true
   },
   "outputs": [],
   "source": [
    "n_b = 2500  #make sure is changed for scenarios B, C.\n",
    "r_b = 0.065\n",
    "fcf1_b = 17266\n",
    "fcf5_b = 43880\n",
    "\n",
    "g0_b = 0 #unused as just pushing DCF back 1 period\n",
    "g1_b = 0.233\n",
    "g2_b = 0.208\n",
    "g3_b = 0.091\n",
    "g4_b = 0.05 #unused if fcf5 entered directly\n",
    "g5_b = 0.155\n",
    "g6_b = 0.119\n",
    "g7_b = 0.083\n",
    "g8_b = 0.047\n",
    "g9_b = 0.02\n",
    "g10_b = 0.02\n",
    "g11_b = 0.02\n",
    "g12_b = 0.02\n",
    "g13_b = 0.02\n",
    "g14_b = 0.02\n",
    "g15_b = 0.02\n",
    "gt_b = 0.02\n"
   ]
  },
  {
   "cell_type": "markdown",
   "metadata": {},
   "source": [
    "# \n",
    "Scenario C"
   ]
  },
  {
   "cell_type": "code",
   "execution_count": 5,
   "metadata": {
    "collapsed": true
   },
   "outputs": [],
   "source": [
    "n_c = 2500  #make sure is changed for scenarios B, C.\n",
    "r_c = 0.095\n",
    "fcf1_c = 17266\n",
    "fcf5_c = 36000\n",
    "\n",
    "g0_c = 0 #unused as just pushing DCF back 1 period\n",
    "g1_c = 0.233\n",
    "g2_c = 0.208\n",
    "g3_c = 0.091\n",
    "g4_c = 0.05 #unused if fcf5 entered directly\n",
    "g5_c = 0.155\n",
    "g6_c = 0.119\n",
    "g7_c = 0.083\n",
    "g8_c = 0.047\n",
    "g9_c = 0.02\n",
    "g10_c = 0.02\n",
    "g11_c = 0.02\n",
    "g12_c = 0.02\n",
    "g13_c = 0.02\n",
    "g14_c = 0.02\n",
    "g15_c = 0.02\n",
    "gt_c = 0.0\n"
   ]
  },
  {
   "cell_type": "markdown",
   "metadata": {},
   "source": [
    "# DCF Monte Carlo"
   ]
  },
  {
   "cell_type": "code",
   "execution_count": 6,
   "metadata": {
    "collapsed": false,
    "scrolled": false
   },
   "outputs": [],
   "source": [
    "def sim(n, mu):\n",
    "    outcomes = []\n",
    "    for p in range(n):\n",
    "        outcomes.append(random.gauss(mu,mu/2)) #stdev should vary by how much??\n",
    "    return outcomes"
   ]
  },
  {
   "cell_type": "markdown",
   "metadata": {},
   "source": [
    "# \n",
    "Discount rates"
   ]
  },
  {
   "cell_type": "code",
   "execution_count": 7,
   "metadata": {
    "collapsed": false
   },
   "outputs": [],
   "source": [
    "R_a = [max(0,x*0.5)+0.5*r_a for x in sim(n_a, r_a)] #only using 0.5x usual stdev and limited to positive numbers\n",
    "R_b = [max(0,x*0.5)+0.5*r_b for x in sim(n_b, r_b)]\n",
    "R_c = [max(0,x*0.5)+0.5*r_c for x in sim(n_b, r_c)]"
   ]
  },
  {
   "cell_type": "markdown",
   "metadata": {},
   "source": [
    "# \n",
    "Growth rates"
   ]
  },
  {
   "cell_type": "code",
   "execution_count": 8,
   "metadata": {
    "collapsed": false
   },
   "outputs": [],
   "source": [
    "g0_a = [x + 1 for x in sim(n_a, g0_a)]\n",
    "g1_a = [x + 1 for x in sim(n_a, g1_a)]\n",
    "g2_a = [x + 1 for x in sim(n_a, g2_a)]\n",
    "g3_a = [x + 1 for x in sim(n_a, g3_a)]\n",
    "g4_a = [x + 1 for x in sim(n_a, g4_a)]\n",
    "g5_a = [x + 1 for x in sim(n_a, g5_a)]\n",
    "g6_a = [x + 1 for x in sim(n_a, g6_a)]\n",
    "g7_a = [x + 1 for x in sim(n_a, g7_a)]\n",
    "g8_a = [x + 1 for x in sim(n_a, g8_a)]\n",
    "g9_a = [x + 1 for x in sim(n_a, g9_a)]\n",
    "g10_a = [x + 1 for x in sim(n_a, g10_a)]\n",
    "g11_a = [x + 1 for x in sim(n_a, g11_a)]\n",
    "g12_a = [x + 1 for x in sim(n_a, g12_a)]\n",
    "g13_a = [x + 1 for x in sim(n_a, g13_a)]\n",
    "g14_a = [x + 1 for x in sim(n_a, g14_a)]\n",
    "g15_a = [x + 1 for x in sim(n_a, g15_a)]\n",
    "gt_a = [x + 1 for x in sim(n_a, gt_a)]"
   ]
  },
  {
   "cell_type": "code",
   "execution_count": 9,
   "metadata": {
    "collapsed": true
   },
   "outputs": [],
   "source": [
    "g0_b = [x + 1 for x in sim(n_b, g0_b)]\n",
    "g1_b = [x + 1 for x in sim(n_b, g1_b)]\n",
    "g2_b = [x + 1 for x in sim(n_b, g2_b)]\n",
    "g3_b = [x + 1 for x in sim(n_b, g3_b)]\n",
    "g4_b = [x + 1 for x in sim(n_b, g4_b)]\n",
    "g5_b = [x + 1 for x in sim(n_b, g5_b)]\n",
    "g6_b = [x + 1 for x in sim(n_b, g6_b)]\n",
    "g7_b = [x + 1 for x in sim(n_b, g7_b)]\n",
    "g8_b = [x + 1 for x in sim(n_b, g8_b)]\n",
    "g9_b = [x + 1 for x in sim(n_b, g9_b)]\n",
    "g10_b = [x + 1 for x in sim(n_b, g10_b)]\n",
    "g11_b = [x + 1 for x in sim(n_b, g11_b)]\n",
    "g12_b = [x + 1 for x in sim(n_b, g12_b)]\n",
    "g13_b = [x + 1 for x in sim(n_b, g13_b)]\n",
    "g14_b = [x + 1 for x in sim(n_b, g14_b)]\n",
    "g15_b = [x + 1 for x in sim(n_b, g15_b)]\n",
    "gt_b = [x + 1 for x in sim(n_b, gt_b)]"
   ]
  },
  {
   "cell_type": "code",
   "execution_count": 10,
   "metadata": {
    "collapsed": true
   },
   "outputs": [],
   "source": [
    "g0_c = [x + 1 for x in sim(n_c, g0_c)]\n",
    "g1_c = [x + 1 for x in sim(n_c, g1_c)]\n",
    "g2_c = [x + 1 for x in sim(n_c, g2_c)]\n",
    "g3_c = [x + 1 for x in sim(n_c, g3_c)]\n",
    "g4_c = [x + 1 for x in sim(n_c, g4_c)]\n",
    "g5_c = [x + 1 for x in sim(n_c, g5_c)]\n",
    "g6_c = [x + 1 for x in sim(n_c, g6_c)]\n",
    "g7_c = [x + 1 for x in sim(n_c, g7_c)]\n",
    "g8_c = [x + 1 for x in sim(n_c, g8_c)]\n",
    "g9_c = [x + 1 for x in sim(n_c, g9_c)]\n",
    "g10_c = [x + 1 for x in sim(n_c, g10_c)]\n",
    "g11_c = [x + 1 for x in sim(n_c, g11_c)]\n",
    "g12_c = [x + 1 for x in sim(n_c, g12_c)]\n",
    "g13_c = [x + 1 for x in sim(n_c, g13_c)]\n",
    "g14_c = [x + 1 for x in sim(n_c, g14_c)]\n",
    "g15_c = [x + 1 for x in sim(n_c, g15_c)]\n",
    "gt_c = [x + 1 for x in sim(n_c, gt_c)]"
   ]
  },
  {
   "cell_type": "markdown",
   "metadata": {},
   "source": [
    "# \n",
    "Free cash flows"
   ]
  },
  {
   "cell_type": "code",
   "execution_count": 11,
   "metadata": {
    "collapsed": false
   },
   "outputs": [],
   "source": [
    "fcf0_a = range(0, 0 + 1) * n_a\n",
    "fcf1_a = range(fcf1_a, fcf1_a + 1) * n_a\n",
    "fcf2_a = [x*y for x, y in zip(fcf1_a, g1_a)]\n",
    "fcf3_a = [x*y for x, y in zip(fcf2_a, g2_a)]\n",
    "fcf4_a = [x*y for x, y in zip(fcf3_a, g3_a)]\n",
    "fcf5_a = range(fcf5_a, fcf5_a + 1) * n_a\n",
    "fcf6_a = [x*y for x, y in zip(fcf5_a, g5_a)]\n",
    "fcf7_a = [x*y for x, y in zip(fcf6_a, g6_a)]\n",
    "fcf8_a = [x*y for x, y in zip(fcf7_a, g7_a)]\n",
    "fcf9_a = [x*y for x, y in zip(fcf8_a, g8_a)]\n",
    "fcf10_a = [x*y for x, y in zip(fcf9_a, g9_a)]\n",
    "fcf11_a = [x*y for x, y in zip(fcf10_a, g10_a)]\n",
    "fcf12_a = [x*y for x, y in zip(fcf11_a, g11_a)]\n",
    "fcf13_a = [x*y for x, y in zip(fcf12_a, g12_a)]\n",
    "fcf14_a = [x*y for x, y in zip(fcf13_a, g13_a)]\n",
    "fcf15_a = [x*y for x, y in zip(fcf14_a, g14_a)]\n",
    "fcft_a = [x/(r_a-(y-1)) for x, y in zip(fcf15_a, gt_a)]"
   ]
  },
  {
   "cell_type": "code",
   "execution_count": 12,
   "metadata": {
    "collapsed": true
   },
   "outputs": [],
   "source": [
    "fcf0_b = range(0, 0 + 1) * n_b\n",
    "fcf1_b = range(fcf1_b, fcf1_b + 1) * n_b\n",
    "fcf2_b = [x*y for x, y in zip(fcf1_b, g1_b)]\n",
    "fcf3_b = [x*y for x, y in zip(fcf2_b, g2_b)]\n",
    "fcf4_b = [x*y for x, y in zip(fcf3_b, g3_b)]\n",
    "fcf5_b = range(fcf5_b, fcf5_b + 1) * n_b\n",
    "fcf6_b = [x*y for x, y in zip(fcf5_b, g5_b)]\n",
    "fcf7_b = [x*y for x, y in zip(fcf6_b, g6_b)]\n",
    "fcf8_b = [x*y for x, y in zip(fcf7_b, g7_b)]\n",
    "fcf9_b = [x*y for x, y in zip(fcf8_b, g8_b)]\n",
    "fcf10_b = [x*y for x, y in zip(fcf9_b, g9_b)]\n",
    "fcf11_b = [x*y for x, y in zip(fcf10_b, g10_b)]\n",
    "fcf12_b = [x*y for x, y in zip(fcf11_b, g11_b)]\n",
    "fcf13_b = [x*y for x, y in zip(fcf12_b, g12_b)]\n",
    "fcf14_b = [x*y for x, y in zip(fcf13_b, g13_b)]\n",
    "fcf15_b = [x*y for x, y in zip(fcf14_b, g14_b)]\n",
    "fcft_b = [x/(r_b-(y-1)) for x, y in zip(fcf15_b, gt_b)]"
   ]
  },
  {
   "cell_type": "code",
   "execution_count": 13,
   "metadata": {
    "collapsed": true
   },
   "outputs": [],
   "source": [
    "fcf0_c = range(0, 0 + 1) * n_c\n",
    "fcf1_c = range(fcf1_c, fcf1_c + 1) * n_c\n",
    "fcf2_c = [x*y for x, y in zip(fcf1_c, g1_c)]\n",
    "fcf3_c = [x*y for x, y in zip(fcf2_c, g2_c)]\n",
    "fcf4_c = [x*y for x, y in zip(fcf3_c, g3_c)]\n",
    "fcf5_c = range(fcf5_c, fcf5_c + 1) * n_c\n",
    "fcf6_c = [x*y for x, y in zip(fcf5_c, g5_c)]\n",
    "fcf7_c = [x*y for x, y in zip(fcf6_c, g6_c)]\n",
    "fcf8_c = [x*y for x, y in zip(fcf7_c, g7_c)]\n",
    "fcf9_c = [x*y for x, y in zip(fcf8_c, g8_c)]\n",
    "fcf10_c = [x*y for x, y in zip(fcf9_c, g9_c)]\n",
    "fcf11_c = [x*y for x, y in zip(fcf10_c, g10_c)]\n",
    "fcf12_c = [x*y for x, y in zip(fcf11_c, g11_c)]\n",
    "fcf13_c = [x*y for x, y in zip(fcf12_c, g12_c)]\n",
    "fcf14_c = [x*y for x, y in zip(fcf13_c, g13_c)]\n",
    "fcf15_c = [x*y for x, y in zip(fcf14_c, g14_c)]\n",
    "fcft_c = [x/(r_c-(y-1)) for x, y in zip(fcf15_c, gt_c)]"
   ]
  },
  {
   "cell_type": "code",
   "execution_count": 14,
   "metadata": {
    "collapsed": false
   },
   "outputs": [],
   "source": [
    "fcfs_a = np.array([fcf0_a, fcf1_a, fcf2_a, fcf3_a, fcf4_a, fcf5_a, fcf6_a, fcf7_a, fcf8_a, fcf9_a, fcf10_a, fcf11_a, fcf12_a, fcf13_a, fcf14_a, fcf15_a, fcft_a]).T\n",
    "fcfs_b = np.array([fcf0_b, fcf1_b, fcf2_b, fcf3_b, fcf4_b, fcf5_b, fcf6_b, fcf7_b, fcf8_b, fcf9_b, fcf10_b, fcf11_b, fcf12_b, fcf13_b, fcf14_b, fcf15_b, fcft_b]).T\n",
    "fcfs_c = np.array([fcf0_c, fcf1_c, fcf2_c, fcf3_c, fcf4_c, fcf5_c, fcf6_c, fcf7_c, fcf8_c, fcf9_c, fcf10_c, fcf11_c, fcf12_c, fcf13_c, fcf14_c, fcf15_c, fcft_c]).T"
   ]
  },
  {
   "cell_type": "code",
   "execution_count": 15,
   "metadata": {
    "collapsed": false,
    "scrolled": true
   },
   "outputs": [],
   "source": [
    "#DataFrame(fcfs)"
   ]
  },
  {
   "cell_type": "markdown",
   "metadata": {},
   "source": [
    "# \n",
    "NPVs"
   ]
  },
  {
   "cell_type": "code",
   "execution_count": 16,
   "metadata": {
    "collapsed": false
   },
   "outputs": [],
   "source": [
    "npvs_a = [np.npv(x, y) for x, y in zip(R_a, fcfs_a)]\n",
    "npvs_b = [np.npv(x, y) for x, y in zip(R_b, fcfs_b)]\n",
    "npvs_c = [np.npv(x, y) for x, y in zip(R_c, fcfs_c)]\n",
    "\n",
    "equity_values_a = [(npv - debt + (cash * use_of_cash))/shares_out for npv in npvs_a]\n",
    "equity_values_b = [(npv - debt + (cash * use_of_cash))/shares_out for npv in npvs_b]\n",
    "equity_values_c = [(npv - debt + (cash * use_of_cash))/shares_out for npv in npvs_c]\n",
    "\n",
    "upsides_a = [max(-1, equity_value/price -1 - 0.02) for equity_value in equity_values_a] #knock off 2% to adjust for longer DCF than excel\n",
    "upsides_b = [max(-1, equity_value/price -1 - 0.02) for equity_value in equity_values_b]\n",
    "upsides_c = [max(-1, equity_value/price -1 - 0.02) for equity_value in equity_values_c]"
   ]
  },
  {
   "cell_type": "code",
   "execution_count": 17,
   "metadata": {
    "collapsed": false,
    "scrolled": true
   },
   "outputs": [],
   "source": [
    "if A == 'Yes' and B == 'No' and C == 'No':\n",
    "    total_upsides = upsides_a\n",
    "elif A == 'Yes' and B == 'Yes' and C == 'No':\n",
    "    total_upsides = upsides_a + upsides_b\n",
    "elif A == 'Yes' and B == 'No' and C == 'Yes':\n",
    "    total_upsides = upsides_a + upsides_c    \n",
    "elif A == 'No' and B == 'Yes' and C == 'Yes':\n",
    "    total_upsides = upsides_b + upsides_c \n",
    "elif A == 'No' and B == 'Yes' and C == 'No':\n",
    "    total_upsides = upsides_b\n",
    "elif A == 'No' and B == 'No' and C == 'Yes':\n",
    "    total_upsides = upsides_c \n",
    "elif A == 'Yes' and B == 'Yes' and C == 'Yes':\n",
    "    total_upsides = upsides_a + upsides_b + upsides_c\n",
    "else:\n",
    "    print '!ERROR!'"
   ]
  },
  {
   "cell_type": "code",
   "execution_count": 18,
   "metadata": {
    "collapsed": true
   },
   "outputs": [],
   "source": [
    "total_upsides = [x for x in total_upsides if x < np.percentile(total_upsides, 99)]"
   ]
  },
  {
   "cell_type": "markdown",
   "metadata": {},
   "source": [
    "# Outputs"
   ]
  },
  {
   "cell_type": "code",
   "execution_count": 19,
   "metadata": {
    "collapsed": false
   },
   "outputs": [],
   "source": [
    "data = total_upsides\n",
    "weights = np.ones_like(data)/len(data)\n",
    "\n",
    "risk = abs(sum([x*y for x, y in zip(total_upsides, weights) if x <0]))\n",
    "reward = sum([x*y for x, y in zip(total_upsides, weights) if x >0])\n",
    "rr = reward/risk\n",
    "\n",
    "key_stats = {\n",
    "    'mean': np.mean(data),\n",
    "    'stdev': np.std(data),\n",
    "    'risk': risk,\n",
    "    'reward': reward,\n",
    "    'rr': rr\n",
    "    }\n",
    "\n",
    "df_key_stats = np.round(DataFrame(key_stats, index=['key stats']), 3)\n",
    "cols = df_key_stats.columns.tolist()\n",
    "cols2 = cols[0:1] + cols[4:5] + cols[1:4]\n",
    "df_key_stats = df_key_stats[cols2].T"
   ]
  },
  {
   "cell_type": "code",
   "execution_count": 20,
   "metadata": {
    "collapsed": false
   },
   "outputs": [
    {
     "data": {
      "image/png": "[encoded data removed]",
      "text/plain": [
       "<matplotlib.figure.Figure at 0x103db8050>"
      ]
     },
     "metadata": {},
     "output_type": "display_data"
    }
   ],
   "source": [
    "plt.figure(1, figsize=(15,5))\n",
    "plt.subplot(121)\n",
    "plt.hist(data, bins=50, weights=weights) \n",
    "\n",
    "plt.subplot(122)\n",
    "plt.hist(data, bins=50, weights=weights, cumulative=True)\n",
    "plt.show()"
   ]
  },
  {
   "cell_type": "code",
   "execution_count": 21,
   "metadata": {
    "collapsed": false
   },
   "outputs": [
    {
     "data": {
      "text/html": [
       "<div>\n",
       "<table border=\"1\" class=\"dataframe\">\n",
       "  <thead>\n",
       "    <tr style=\"text-align: right;\">\n",
       "      <th></th>\n",
       "      <th>key stats</th>\n",
       "    </tr>\n",
       "  </thead>\n",
       "  <tbody>\n",
       "    <tr>\n",
       "      <th>mean</th>\n",
       "      <td>0.274</td>\n",
       "    </tr>\n",
       "    <tr>\n",
       "      <th>stdev</th>\n",
       "      <td>0.496</td>\n",
       "    </tr>\n",
       "    <tr>\n",
       "      <th>reward</th>\n",
       "      <td>0.348</td>\n",
       "    </tr>\n",
       "    <tr>\n",
       "      <th>risk</th>\n",
       "      <td>0.074</td>\n",
       "    </tr>\n",
       "    <tr>\n",
       "      <th>rr</th>\n",
       "      <td>4.705</td>\n",
       "    </tr>\n",
       "  </tbody>\n",
       "</table>\n",
       "</div>"
      ],
      "text/plain": [
       "        key stats\n",
       "mean        0.274\n",
       "stdev       0.496\n",
       "reward      0.348\n",
       "risk        0.074\n",
       "rr          4.705"
      ]
     },
     "execution_count": 21,
     "metadata": {},
     "output_type": "execute_result"
    }
   ],
   "source": [
    "df_key_stats"
   ]
  }
 ],
 "metadata": {
  "kernelspec": {
   "display_name": "Python 2",
   "language": "python",
   "name": "python2"
  },
  "language_info": {
   "codemirror_mode": {
    "name": "ipython",
    "version": 2
   },
   "file_extension": ".py",
   "mimetype": "text/x-python",
   "name": "python",
   "nbconvert_exporter": "python",
   "pygments_lexer": "ipython2",
   "version": "2.7.11"
  }
 },
 "nbformat": 4,
 "nbformat_minor": 0
}
